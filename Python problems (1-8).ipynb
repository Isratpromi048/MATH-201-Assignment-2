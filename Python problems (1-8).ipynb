{
 "cells": [
  {
   "cell_type": "markdown",
   "metadata": {},
   "source": [
    "Q.1 Write a program that repeatedly asks the user to enter product names and prices. Store all of these in a dictionary whose keys are the product names and whose values are the prices. When the user is done entering products and prices, allow them to repeatedly enter a product name and print the corresponding price or a message if the product is not in the dictionary."
   ]
  },
  {
   "cell_type": "code",
   "execution_count": 1,
   "metadata": {},
   "outputs": [
    {
     "name": "stdout",
     "output_type": "stream",
     "text": [
      "Enter Product Name: water\n",
      "Enter Product Prize: 15\n",
      "Press \"Y\" to add more OR \"N\" to finish: Y\n",
      "Enter Product Name: soda\n",
      "Enter Product Prize: 20\n",
      "Press \"Y\" to add more OR \"N\" to finish: Y\n",
      "Enter Product Name: cake\n",
      "Enter Product Prize: 100\n",
      "Press \"Y\" to add more OR \"N\" to finish: N\n",
      "Enter Product Name: water\n",
      "Price of water is: 15\n",
      "Press \"Y\" to search again OR \"N\" to finish: N\n"
     ]
    }
   ],
   "source": [
    "ch=\"Y\"\n",
    "dic={}\n",
    "\n",
    "while ch=='Y':\n",
    "    p_n=input('Enter Product Name: ')\n",
    "    p_pr=input('Enter Product Prize: ')\n",
    "    dic[p_n]=p_pr\n",
    "    ch=input('Press \"Y\" to add more OR \"N\" to finish: ')\n",
    "\n",
    "ch=\"Y\"\n",
    "while ch==\"Y\":\n",
    "    a=input('Enter Product Name: ')\n",
    "    if a in dic:\n",
    "        print('Price of',a,'is:',dic[a])\n",
    "    else:\n",
    "        print(a,'is not in the Dictionary')\n",
    "    ch=input('Press \"Y\" to search again OR \"N\" to finish: ')"
   ]
  },
  {
   "cell_type": "markdown",
   "metadata": {},
   "source": [
    "Q.2 Using the dictionary created in the previous problem, allow the user to enter a dollar amount and print out all the products whose price is less than that amount."
   ]
  },
  {
   "cell_type": "code",
   "execution_count": 2,
   "metadata": {},
   "outputs": [
    {
     "name": "stdout",
     "output_type": "stream",
     "text": [
      "Enter Product Name: water\n",
      "Enter Product Prize: 10\n",
      "Press \"Y\" to add more OR \"N\" to finish: Y\n",
      "Enter Product Name: soda\n",
      "Enter Product Prize: 20\n",
      "Press \"Y\" to add more OR \"N\" to finish: Y\n",
      "Enter Product Name: cake\n",
      "Enter Product Prize: 100\n",
      "Press \"Y\" to add more OR \"N\" to finish: N\n",
      "Enter a Doller amount: 30\n",
      "water : 10\n",
      "soda : 20\n"
     ]
    }
   ],
   "source": [
    "ch=\"Y\"\n",
    "dic={}\n",
    "\n",
    "while ch=='Y':\n",
    "    p_n=input('Enter Product Name: ')\n",
    "    p_pr=input('Enter Product Prize: ')\n",
    "    dic[p_n]=p_pr\n",
    "    ch=input('Press \"Y\" to add more OR \"N\" to finish: ')\n",
    "\n",
    "n=input('Enter a Doller amount: ')\n",
    "n=int(n)  #string to int\n",
    "c=0  #to check if required product exists\n",
    "\n",
    "for p in dic:\n",
    "    if int(dic[p])<n:  #type casting as the dictionary value is string\n",
    "        print(p,':',dic[p])\n",
    "        c=c+1\n",
    "if c==0:\n",
    "    print('No product exists in the Dictionary Price less than',n)"
   ]
  },
  {
   "cell_type": "markdown",
   "metadata": {},
   "source": [
    "Q.3 Write a program that uses a dictionary that contains ten user names and passwords. The program should ask the user to enter their username and password. If the username is not in the dictionary, the program should indicate that the person is not a valid user of the system. If the username is in the dictionary, but the user does not enter the right password, the program should say that the password is invalid. If the password is correct, then the program should tell the user that they are now logged in to the system."
   ]
  },
  {
   "cell_type": "code",
   "execution_count": 3,
   "metadata": {},
   "outputs": [
    {
     "name": "stdout",
     "output_type": "stream",
     "text": [
      "Enter User Name: Saeid\n",
      "Enter Password: 17201407\n",
      "Login Successfull !!!\n"
     ]
    }
   ],
   "source": [
    "dic={'Aisha':1234560, 'Miraz': 13156910, 'Ovi': 11420119113, \n",
    "     'Neha': 811414919, 'Hridy': 818941525, 'Raba': 291821, 'Sazidul': 315896, \n",
    "     'Iqra': 1821139, 'Saeid': 17201407, 'Promi': 201514}\n",
    "\n",
    "u_n=input('Enter User Name: ')\n",
    "p_w=input('Enter Password: ')\n",
    "p_w=int(p_w)\n",
    "               # string comparison isn't working.   have to type cast in int\n",
    "if u_n in dic:\n",
    "    if int(dic[u_n])==p_w:\n",
    "        print('Login Successfull !!!')\n",
    "    else:\n",
    "        print('Invalid Password...')\n",
    "else:\n",
    "    print('You are Not a valid User...')"
   ]
  },
  {
   "cell_type": "markdown",
   "metadata": {},
   "source": [
    "Q.4 Using the card dictionary from earlier in this chapter, create a simple card game that deals two players three cards each. The player with the highest card wins. If there is a tie, then compare the second highest card and, if necessary, the third highest. If all three cards have the same value, then the game is a draw."
   ]
  },
  {
   "cell_type": "code",
   "execution_count": 4,
   "metadata": {},
   "outputs": [
    {
     "name": "stdout",
     "output_type": "stream",
     "text": [
      "Player One:\n",
      "{' value ': 4, ' suit ': ' clubs '}\n",
      "{' value ': 14, ' suit ': ' clubs '}\n",
      "{' value ': 4, ' suit ': ' spades '}\n",
      "[4, 14, 4]\n",
      "\n",
      "Player Two:\n",
      "{' value ': 12, ' suit ': ' diamonds '}\n",
      "{' value ': 5, ' suit ': ' hearts '}\n",
      "{' value ': 12, ' suit ': ' clubs '}\n",
      "[12, 5, 12]\n",
      "\n",
      "Highest Value of Player One  14\n",
      "\n",
      "Higest Value of Player Two:  12\n",
      "\n",
      "Player One won\n",
      "\n"
     ]
    }
   ],
   "source": [
    "import random\n",
    "import operator\n",
    "deck = [{ ' value ' :i, ' suit ' :c}\n",
    "for c in [ ' spades ' , ' clubs ' , ' hearts ' , ' diamonds ' ]\n",
    "for i in range(2,15)]\n",
    "deck1 = {}\n",
    "deck2 = {}\n",
    "arr1 = [None]*3\n",
    "arr2 = [None]*3\n",
    "\n",
    "random.shuffle(deck)\n",
    "#for player one\n",
    "print(\"Player One:\")\n",
    "for i in range(0,3):\n",
    "    deck1 = deck[i]\n",
    "    print(deck[i])\n",
    "    x = max(deck1)\n",
    "    arr1[i] = deck1[x]\n",
    "\n",
    "print(arr1)    \n",
    "print(\"\\nPlayer Two:\")\n",
    "#for player two\n",
    "\n",
    "random.shuffle(deck)\n",
    "for i in range(0,3):\n",
    "    deck2 = deck[i]\n",
    "    print(deck[i])\n",
    "    y = max(deck2)\n",
    "    arr2[i] = deck2[y]\n",
    "    \n",
    "print(arr2)\n",
    "\n",
    "firstMax = max(arr1)\n",
    "seccondMax = max(arr2)\n",
    "print(\"\\nHighest Value of Player One \",firstMax)\n",
    "print(\"\\nHigest Value of Player Two: \",seccondMax)\n",
    "if(firstMax==seccondMax):\n",
    "    print(\"\\nGame Tie\\n\")\n",
    "elif(firstMax>seccondMax):\n",
    "    print(\"\\nPlayer One won\\n\")\n",
    "elif(seccondMax>firstMax):\n",
    "    print(\"\\nPlayer Two Won\\n\")"
   ]
  },
  {
   "cell_type": "markdown",
   "metadata": {},
   "source": [
    "Q.5 Using the card dictionary from earlier in the chapter, deal out three cards. Determine the following: (a) If the three cards form a flush (all of the same suit) (b) If there is a three-of-a-kind (all of the same value) (c) If there is a pair, but not three-of-a-kind (d) If the three cards form a straight (all in a row, like (2, 3, 4) or (10, Jack, Queen))"
   ]
  },
  {
   "cell_type": "code",
   "execution_count": 5,
   "metadata": {},
   "outputs": [
    {
     "name": "stdout",
     "output_type": "stream",
     "text": [
      "Cards: \n",
      "diamonds : 2\n",
      "spades : 3\n",
      "spades : 14\n",
      "High Card : 14\n"
     ]
    }
   ],
   "source": [
    "deck = [{ 'value': i, 'suit': c}\n",
    "for c in [ 'spades' , 'clubs', 'hearts', 'diamonds']\n",
    "for i in range(2,15)]\n",
    "\n",
    "random.shuffle(deck)   # to shuffle the cards\n",
    "p_1=[0]*3              # value '2' of clubs\n",
    "p_2=['s']*3            # suit 2 of \"clubs\"\n",
    "\n",
    "check=0\n",
    "print('Cards: ')\n",
    "while check<3:\n",
    "    print(deck[check]['suit'],':',deck[check]['value'])\n",
    "    p_1[check]=int(deck[check]['value'])\n",
    "    p_2[check]=deck[check]['suit']\n",
    "    check=check+1\n",
    "\n",
    "\n",
    "p_1=sorted(p_1, reverse=True)  # 10, 9, 7\n",
    "    \n",
    "if p_1[0]==p_1[1]==p_1[2]:\n",
    "    print('Three of A Kind')\n",
    "elif p_2[0]==p_2[1]==p_2[2]:\n",
    "    if p_1[0]==p_1[1]+1 and p_1[0]==p_1[2]+2:\n",
    "        print('Straight Flush')\n",
    "    else:\n",
    "        print('Flush')\n",
    "elif p_1[0]==p_1[1] or p_1[0]==p_1[2] or p_1[2]==p_1[1]:\n",
    "    print('Pair')\n",
    "elif p_1[0]==p_1[1]+1 and p_1[0]==p_1[2]+2:\n",
    "        print('Straight')\n",
    "else:\n",
    "    print('High Card :',p_1[0])"
   ]
  },
  {
   "cell_type": "markdown",
   "metadata": {},
   "source": [
    "Q.6 Below are the notes used in music: C C# D D# E F F# G G# A A# B The notes for the C major chord are C, E, G. A mathematical way to get this is that E is 4 steps past C and G is 7 steps past C. This works for any base. For example, the notes for D major are D, F#, A. We can represent the major chord steps as a list with two elements: [4,7] . The corresponding lists for some other chord types are shown below:\n",
    "Minor [3,7]\n",
    "\n",
    "Augmented fifth [4,8]\n",
    "\n",
    "Minor fifth [4,6]\n",
    "\n",
    "Major sixth [4,7,9]\n",
    "\n",
    "Minor sixth [3,7,9]\n",
    "\n",
    "Dominant seventh [4,7,10]\n",
    "\n",
    "Minor seventh [3,7,10]\n",
    "\n",
    "Major seventh [4,7,11]\n",
    "\n",
    "Diminished seventh [3,6,10]\n",
    "\n",
    "Write a program that asks the user for the key and the chord type and prints out the notes of the chord. Use a dictionary whose keys are the (musical) keys and whose values are the lists of steps."
   ]
  },
  {
   "cell_type": "code",
   "execution_count": 6,
   "metadata": {},
   "outputs": [
    {
     "name": "stdout",
     "output_type": "stream",
     "text": [
      "Cord types are : Minor, Augmented fifth, Minor fifth, Major sixth, Minor sixth\n",
      " \t\tDominant seventh, Minor seventh, Major seventh, Diminished seventh\n",
      "Enter Key: D\n",
      "Enter Cord Type: Minor\n",
      "D F A\n"
     ]
    }
   ],
   "source": [
    "my_note=['C', 'C#', 'D', 'D#', 'E', 'F', 'F#', 'G', 'G#', 'A', 'A#', 'B']\n",
    "\n",
    "print('Cord types are : Minor, Augmented fifth, Minor fifth, Major sixth, Minor sixth\\n \\t\\tDominant seventh, Minor seventh, Major seventh, Diminished seventh')\n",
    "key=input('Enter Key: ')\n",
    "cord_type=input('Enter Cord Type: ')\n",
    "\n",
    "i=0\n",
    "while i<12:\n",
    "    if my_note[i]==key:\n",
    "        break\n",
    "    i=i+1\n",
    "\n",
    "if cord_type=='Minor':\n",
    "    print(my_note[i],my_note[i+3],my_note[(i+7)%11])\n",
    "elif cord_type=='Augmented fifth':\n",
    "    print(my_note[i],my_note[i+4],my_note[(i+8)%11])\n",
    "elif cord_type=='Minor fifth':\n",
    "    print(my_note[i],my_note[i+4],my_note[(i+6)%11])\n",
    "elif cord_type=='Major sixth':\n",
    "    print(my_note[i],my_note[i+4],my_note[(i+7)%11], my_note[(i+9)%11])\n",
    "elif cord_type=='Dominant seventh':\n",
    "    print(my_note[i],my_note[i+4],my_note[(i+7)%11], my_note[(i+10)%11])\n",
    "elif cord_type=='Minor seventh':\n",
    "    print(my_note[i],my_note[i+3],my_note[(i+7)%11], my_note[(i+10)%11])\n",
    "elif cord_type=='Major seventh':\n",
    "    print(my_note[i],my_note[i+4],my_note[(i+7)%11],my_note[(i+11)%11])\n",
    "elif cord_type=='Diminished seventh':\n",
    "    print(my_note[i],my_note[i+3],my_note[(i+6)%11], my_note[(i+10)%11])\n",
    "elif cord_type=='Minor sixth':\n",
    "    print(my_note[i],my_note[i+3],my_note[(i+7)%11], my_note[(i+9)%11])"
   ]
  },
  {
   "cell_type": "markdown",
   "metadata": {},
   "source": [
    "Q.7 Suppose you are given the following list of strings:\n",
    "L = [ ' aabaabac ' , ' cabaabca ' , ' aaabbcba ' , ' aabacbab ' , ' acababba ' ]\n",
    "\n",
    "Patterns like this show up in many places, including DNA sequencing. The user has a string of their own with only some letters filled in and the rest as asterisks. An example is aa** . The user would like to know which of the strings in the list fit with their pattern. In the example just given, the matching strings are the first and fourth. One way to solve this problem is to create a dictionary whose keys are the indices in the user’s string of the non-asterisk characters and whose values are those characters. Write a program implementing this approach (or some other approach) to find the strings that match a user-entered string."
   ]
  },
  {
   "cell_type": "code",
   "execution_count": 7,
   "metadata": {},
   "outputs": [
    {
     "name": "stdout",
     "output_type": "stream",
     "text": [
      "Enter string with one * :promi*\n",
      "No Match\n"
     ]
    }
   ],
   "source": [
    "L = [ 'aabaabac' , 'cabaabca' , 'aaabbcba' , 'aabacbab' , 'acababba' ] \n",
    "\n",
    "s=input(\"Enter string with one * :\")\n",
    "\n",
    "i=0\n",
    "check=0\n",
    "while i<5:\n",
    "    check=0\n",
    "    m=0\n",
    "    if s[m]==L[i][m]:\n",
    "        check=1\n",
    "        m=m+1\n",
    "        while m<len(s)-1 and check==1:\n",
    "            if s[m]!=L[i][m]:\n",
    "                check=0\n",
    "        m=m+1\n",
    "    if check==1:\n",
    "        print(L[i])\n",
    "    i=i+1\n",
    "\n",
    "if check==0:\n",
    "    print('No Match')"
   ]
  },
  {
   "cell_type": "markdown",
   "metadata": {},
   "source": [
    "Q.8 Dictionaries provide a convenient way to store structured data. Here is an example dictionary:\n",
    "d=[{ ' name ' : ' Todd ' , ' phone ' : ' 555-1414 ' , ' email ' : ' todd@mail.net ' }, { ' name ' : ' Helga ' , ' phone ' : ' 555-1618 ' , ' email ' : ' helga@mail.net ' }, { ' name ' : ' Princess ' , ' phone ' : ' 555-3141 ' , ' email ' : '' }, { ' name ' : ' LJ ' , ' phone ' : ' 555-2718 ' , ' email ' : ' lj@mail.net ' }]\n",
    "\n",
    "Write a program that reads through any dictionary like this and prints the following:\n",
    "\n",
    "(a) All the users whose phone number ends in an 8\n",
    "\n",
    "(b) All the users that don’t have an email address listed"
   ]
  },
  {
   "cell_type": "code",
   "execution_count": 8,
   "metadata": {},
   "outputs": [
    {
     "name": "stdout",
     "output_type": "stream",
     "text": [
      "All the users whose phone number ends in an 8\n",
      "{' name ': ' Helga ', ' phone ': ' 555-1618 ', ' email ': ' helga@mail.net '}\n",
      "{' name ': ' LJ ', ' phone ': ' 555-2718 ', ' email ': ' lj@mail.net '}\n",
      "\n",
      "All the users that don’t have an email address listed\n",
      "{' name ': ' Princess ', ' phone ': ' 555-3141 ', ' email ': ''}\n"
     ]
    }
   ],
   "source": [
    "d=[{ ' name ' : ' Todd ' , ' phone ' : ' 555-1414 ' , ' email ' : ' todd@mail.net ' }, \n",
    "   { ' name ' : ' Helga ' , ' phone ' : ' 555-1618 ' , ' email ' : ' helga@mail.net ' }, \n",
    "   { ' name ' : ' Princess ' , ' phone ' : ' 555-3141 ' , ' email ' : '' }, \n",
    "   { ' name ' : ' LJ ' , ' phone ' : ' 555-2718 ' , ' email ' : ' lj@mail.net ' }]\n",
    "#print(d[2][' email '])\n",
    "#a=''\n",
    "#print(len(a))\n",
    "\n",
    "print('All the users whose phone number ends in an 8')\n",
    "i=0\n",
    "for a in d:\n",
    "    n=d[i][' phone ']\n",
    "    if n[-2]=='8':\n",
    "        print(d[i])\n",
    "    i=i+1\n",
    "\n",
    "print('\\nAll the users that don’t have an email address listed')\n",
    "i=0\n",
    "for a in d:\n",
    "    n=d[i][' email ']\n",
    "    if len(n)==0:\n",
    "        print(d[i])\n",
    "    i=i+1"
   ]
  }
 ],
 "metadata": {
  "kernelspec": {
   "display_name": "Python 3",
   "language": "python",
   "name": "python3"
  },
  "language_info": {
   "codemirror_mode": {
    "name": "ipython",
    "version": 3
   },
   "file_extension": ".py",
   "mimetype": "text/x-python",
   "name": "python",
   "nbconvert_exporter": "python",
   "pygments_lexer": "ipython3",
   "version": "3.7.1"
  }
 },
 "nbformat": 4,
 "nbformat_minor": 2
}
