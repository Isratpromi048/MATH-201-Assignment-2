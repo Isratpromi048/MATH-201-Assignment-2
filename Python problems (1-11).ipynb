{
 "cells": [
  {
   "cell_type": "markdown",
   "metadata": {},
   "source": [
    "Q.1 Write a program that uses a while loop (not a for loop) to read through a string and print the characters of the string one-by-one on separate lines."
   ]
  },
  {
   "cell_type": "code",
   "execution_count": 1,
   "metadata": {},
   "outputs": [
    {
     "name": "stdout",
     "output_type": "stream",
     "text": [
      "Enter a string: promi\n",
      "p\n",
      "\n",
      "r\n",
      "\n",
      "o\n",
      "\n",
      "m\n",
      "\n",
      "i\n",
      "\n"
     ]
    }
   ],
   "source": [
    "str = input(\"Enter a string: \")\n",
    "i = 0\n",
    "while(i < len(str)):\n",
    "    print(\"{}\\n\".format(str[i]))\n",
    "    i+=1\n"
   ]
  },
  {
   "cell_type": "markdown",
   "metadata": {},
   "source": [
    "Q.2 Modify the program above to print out every second character of the string."
   ]
  },
  {
   "cell_type": "code",
   "execution_count": 2,
   "metadata": {},
   "outputs": [
    {
     "name": "stdout",
     "output_type": "stream",
     "text": [
      "Enter a string: promi\n",
      "r\n",
      "\n",
      "m\n",
      "\n"
     ]
    }
   ],
   "source": [
    "str = input(\"Enter a string: \")\n",
    "i = 0\n",
    "while(i < len(str)):\n",
    "    if (i+1) % 2 == 0:\n",
    "        print(\"{}\\n\".format(str[i]))\n",
    "    i+=1\n"
   ]
  },
  {
   "cell_type": "markdown",
   "metadata": {},
   "source": [
    "Q.3. Write a program that asks the user to enter a password. If the user enters the right password, the program should tell them they are logged in to the system. Otherwise, the program should ask them to reenter the password. The user should only get five tries to enter the password, after which point the program should tell them that they are kicked off of the system."
   ]
  },
  {
   "cell_type": "code",
   "execution_count": 3,
   "metadata": {
    "scrolled": true
   },
   "outputs": [
    {
     "name": "stdout",
     "output_type": "stream",
     "text": [
      "Enter a password: 1234\n",
      "You have 5 tries left\n",
      "Re-enter your password: pro1234ul\n",
      "You are logged in\n"
     ]
    }
   ],
   "source": [
    "password = \"pro1234ul\"\n",
    "for x in range(7):\n",
    "    if x == 0:\n",
    "        str = input(\"Enter a password: \")\n",
    "    else:\n",
    "        str = input(\"Re-enter your password: \")\n",
    "    if str == password:\n",
    "        print(\"You are logged in\")\n",
    "        break\n",
    "    else:\n",
    "        if 5 - x >= 0:\n",
    "            print(\"You have {} tries left\".format(5-x))\n",
    "if x == 6:\n",
    "    print(\"You have been kicked out of the system\")\n"
   ]
  },
  {
   "cell_type": "markdown",
   "metadata": {},
   "source": [
    "Q.4 Recall that, given a string s , s.index( ' x ' ) returns the index of the first x in s and an error if there is no x. \n",
    "(a) Write a program that asks the user for a string and a letter. Using a while loop, the program should print the index of the first occurrence of that letter and a message if the string does not contain the letter."
   ]
  },
  {
   "cell_type": "code",
   "execution_count": 3,
   "metadata": {},
   "outputs": [
    {
     "name": "stdout",
     "output_type": "stream",
     "text": [
      "Enter a String: promi\n",
      "Enter a Letter: r\n",
      "\n",
      "First occurrence of r is found at index: 1 \n",
      "\n",
      "Enter a String: promi\n",
      "Enter a Letter: o\n",
      "\n",
      "First occurrence of o is found at index: 2 \n",
      "\n",
      "Enter a String: i love programming\n",
      "Enter a Letter: m\n",
      "\n",
      "First occurrence of m is found at index: 13 \n",
      "\n",
      "Enter a String: promi\n",
      "Enter a Letter: e\n",
      "\n",
      "The String does not contain the Letter\n",
      "\n"
     ]
    }
   ],
   "source": [
    "index = 0 # initialize the value of i which is 0\n",
    "while index>=0: # while loop will execute if condition is true \n",
    "    s = input(\"Enter a String: \") # ask user to input a string\n",
    "    letter = input(\"Enter a Letter: \") # ask user to input a letter \n",
    "    if letter in s: # if letter is in the string 's' \n",
    "        find = s.index(letter) # find out the first index of the letter that is matched\n",
    "        print (\"\\nFirst occurrence of\",letter,\"is found at index:\",find,\"\\n\") # print statement\n",
    "        \n",
    "    else: # if letter is not in the string 's' \n",
    "        print (\"\\nThe String does not contain the Letter\\n\")\n",
    "        break \n",
    "    index = index + 1 # the value of index is incremented by 1\n",
    "  "
   ]
  },
  {
   "cell_type": "markdown",
   "metadata": {},
   "source": [
    "Q.4 (b) Write the above program using a for/break loop instead of a while loop."
   ]
  },
  {
   "cell_type": "code",
   "execution_count": 4,
   "metadata": {},
   "outputs": [
    {
     "name": "stdout",
     "output_type": "stream",
     "text": [
      "Enter a String: I love python programming\n",
      "Enter a Letter: g\n",
      "\n",
      "First occurrence of g is found at index: 17 \n",
      "\n"
     ]
    }
   ],
   "source": [
    "s = input(\"Enter a String: \") # ask user to input a string\n",
    "letter = input(\"Enter a Letter: \") # ask user to input a letter \n",
    "for i in range(1): # for loop will executed one time as range is equal to 1\n",
    "    if letter in s: # if letter is in the string 's' \n",
    "        find = s.index(letter) # find out the first index of the letter that is matched\n",
    "        print (\"\\nFirst occurrence of\",letter,\"is found at index:\",find,\"\\n\") # print statement\n",
    "        break # break statement means it will get out of the loop\n",
    "    else: # if letter is not in the string 's' \n",
    "        print (\"\\nThe String does not contain the Letter\\n\") # print statement\n"
   ]
  },
  {
   "cell_type": "markdown",
   "metadata": {},
   "source": [
    "Q.5 The GCD (greatest common divisor) of two numbers is the largest number that both are di-visible by. For instance, gcd (18, 42) is 6 because the largest number that both 18 and 42 are divisible by is 6. Write a program that asks the user for two numbers and computes their gcd. Shown below is a way to compute the GCD, called Euclid’s Algorithm.\n",
    "• First compute the remainder of dividing the larger number by the smaller number\n",
    "• Next, replace the larger number with the smaller number and the smaller number with the remainder.\n",
    "• Repeat this process until the smaller number is 0. The GCD is the last value of the larger number.\n"
   ]
  },
  {
   "cell_type": "code",
   "execution_count": 15,
   "metadata": {},
   "outputs": [
    {
     "name": "stdout",
     "output_type": "stream",
     "text": [
      "Enter Number1: 49\n",
      "Enter Number2: 56\n",
      "Greatest Common Divisor =   7\n"
     ]
    }
   ],
   "source": [
    "num1 =int(input(\"Enter Number1: \"))\n",
    "num2 =int(input(\"Enter Number2: \"))\n",
    "\n",
    "x = 1\n",
    "gcd = 0\n",
    "\n",
    "while x <= num1 and x <= num2: #the loop will execute while the value of x is between num1 and num2\n",
    "    if num1 % x == 0 and num2 % x == 0:\n",
    "        gcd = x\n",
    "    x+=1\n",
    "print(\"Greatest Common Divisor =  \",gcd) # prints the Greatest Common Divisor of Two Numbers\n"
   ]
  },
  {
   "cell_type": "markdown",
   "metadata": {},
   "source": [
    "Q.6 A 4000-year old method to compute the square root of 5 is as follows: Start with an initial guess, say 1. Then compute(1 + 5/1 )/2 = 3Next, take that 3 and replace the 1’s in the previous formula with 3’s . This gives(3 + 5/3 )/2 = 7/3 = 2.33Next replace the 3 in the previous formula with 7/3 . This gives(7/3 + 5/(7/3) )/2 = 47/22 = 2.24If you keep doing this process of computing the formula, getting a result, and plugging it back in, the values will eventually get closer and closer to 5 . This method works for numbers other than 5. Write a program that asks the user for a number and uses this method to estimate the square root of the number correct to within 10^( −10) . The estimate will be correct to within 10^( −10) when the absolute value of the difference between consecutive values is less than 10^(−10) ."
   ]
  },
  {
   "cell_type": "code",
   "execution_count": 7,
   "metadata": {},
   "outputs": [
    {
     "name": "stdout",
     "output_type": "stream",
     "text": [
      "Enter a Number: 16\n",
      "\n",
      "4.00\n"
     ]
    }
   ],
   "source": [
    "number = float(input(\"Enter a Number: \")) \n",
    "i = 1 # initial guess \n",
    "\n",
    "while i >= 0: \n",
    "    j = i\n",
    "    i = (i + number / i) / 2\n",
    "    if j == i: \n",
    "        break \n",
    "\n",
    "print(\"\\n%.2f\"%i)\n"
   ]
  },
  {
   "cell_type": "markdown",
   "metadata": {},
   "source": [
    "Q.7. Write a program that starts with an 5 × 5 list of zeroes and randomly changes exactly ten of those zeroes to ones."
   ]
  },
  {
   "cell_type": "code",
   "execution_count": 1,
   "metadata": {},
   "outputs": [
    {
     "name": "stdout",
     "output_type": "stream",
     "text": [
      "0 0 0 1 0 \n",
      "0 1 1 0 0 \n",
      "1 1 0 0 0 \n",
      "1 0 0 0 0 \n",
      "0 0 0 0 0 \n"
     ]
    }
   ],
   "source": [
    "import random\n",
    "myList = []\n",
    "randomPosition = []\n",
    "for i in range(25):\n",
    "    myList.append(0)\n",
    "\n",
    "for i in range(10):\n",
    "    x = random.randrange(1, 25)\n",
    "    while randomPosition.count(x) != 0:\n",
    "        x = random.randrange(1, 25)\n",
    "    randomPosition.append(x)\n",
    "    myList[x] = 1\n",
    "k = 0\n",
    "for i in range (5):\n",
    "    for j in range(5):\n",
    "        if i+j == randomPosition[k]:\n",
    "            print(myList[k], end=\" \")\n",
    "            k+=1\n",
    "            continue\n",
    "        print(myList[i+j], end=\" \")\n",
    "    print()\n"
   ]
  },
  {
   "cell_type": "markdown",
   "metadata": {},
   "source": [
    "Q.8 Write a program in which you have a list that contains seven integers that can be 0 or 1. Find the first nonzero entry in the list and change it to a 1. If there are no nonzero entries, print a message saying so."
   ]
  },
  {
   "cell_type": "code",
   "execution_count": 6,
   "metadata": {},
   "outputs": [
    {
     "name": "stdout",
     "output_type": "stream",
     "text": [
      "Enter int contain 0 or 1 0\n",
      "Enter int contain 0 or 1 0\n",
      "Enter int contain 0 or 1 0\n",
      "Enter int contain 0 or 1 321\n",
      "Enter int contain 0 or 1 12345\n",
      "Enter int contain 0 or 1 0\n",
      "Enter int contain 0 or 1 0\n",
      "Input List [0, 0, 0, 321, 12345, 0, 0]\n",
      "Output List [0, 0, 0, 1, 12345, 0, 0]\n"
     ]
    }
   ],
   "source": [
    "my_list=[0]*7 #creating List of seven intigers\n",
    "\n",
    "count=0\n",
    "while count<7:\n",
    "    my_list[count]=input('Enter int contain 0 or 1 ')\n",
    "    my_list[count]=int(my_list[count])\n",
    "    count=count+1\n",
    "print('Input List',my_list)\n",
    "\n",
    "count=0\n",
    "check=0\n",
    "while count<7 and check==0:\n",
    "    if my_list[count]!=0:\n",
    "        my_list[count]=1\n",
    "        check=1    #finding first non zero int\n",
    "    count=count+1\n",
    "\n",
    "if check==1:\n",
    "    print('Output List',my_list)\n",
    "else:\n",
    "    print('No Non Zero int in the List')\n"
   ]
  },
  {
   "cell_type": "markdown",
   "metadata": {},
   "source": [
    "Q.9 Write a program to play the following simple game. The player starts with \\$100. On each turn a coin is flipped and the player has to guess heads or tails. The player wins \\$9 for each correct guess and loses \\$10 for each incorrect guess. The game ends either when the player runs out of money or gets to \\$200."
   ]
  },
  {
   "cell_type": "code",
   "execution_count": 5,
   "metadata": {},
   "outputs": [
    {
     "name": "stdout",
     "output_type": "stream",
     "text": [
      "Starts with $25 and wins when $50\n",
      "write \"H\" for head or \"T\" for tail H\n",
      "Right Guess!!! New Balance 34\n",
      "write \"H\" for head or \"T\" for tail H\n",
      "Right Guess!!! New Balance 43\n",
      "write \"H\" for head or \"T\" for tail H\n",
      "Wrong Guess... New Balance 33\n",
      "write \"H\" for head or \"T\" for tail T\n",
      "Wrong Guess... New Balance 23\n",
      "write \"H\" for head or \"T\" for tail H\n",
      "Right Guess!!! New Balance 32\n",
      "write \"H\" for head or \"T\" for tail H\n",
      "Right Guess!!! New Balance 41\n",
      "write \"H\" for head or \"T\" for tail T\n",
      "Right Guess!!! New Balance 50\n",
      "Congrats!!!\n"
     ]
    }
   ],
   "source": [
    "balance=25  #100\n",
    "\n",
    "def Guess(ans,my_balance):\n",
    "    import random\n",
    "    z=random.randint(0,1)\n",
    "    if ans==z:\n",
    "        my_balance=my_balance+9\n",
    "        print('Right Guess!!! New Balance',my_balance)\n",
    "    else:\n",
    "        my_balance=my_balance-10\n",
    "        print('Wrong Guess... New Balance',my_balance)\n",
    "    return my_balance\n",
    "\n",
    "print('Starts with $25 and wins when $50')\n",
    "while balance>0 and balance<50:  #balance<200\n",
    "    s=input('write \"H\" for head or \"T\" for tail ')\n",
    "    if s=='H':\n",
    "        check=Guess(0,balance)  # 0 for head\n",
    "    elif s=='T':\n",
    "        check=Guess(1,balance)  # 1 for tail\n",
    "    balance=check\n",
    "\n",
    "if balance>=50:          #200\n",
    "    print('Congrats!!!')\n",
    "else:\n",
    "    print('Better Luck Next time...')\n"
   ]
  },
  {
   "cell_type": "markdown",
   "metadata": {},
   "source": [
    "Q.10 Randomly generate a 6 × 6 list that has exactly 12 ones placed in random locations in the list. The rest of the entries should be zeroes."
   ]
  },
  {
   "cell_type": "code",
   "execution_count": 4,
   "metadata": {},
   "outputs": [
    {
     "name": "stdout",
     "output_type": "stream",
     "text": [
      "\n",
      " [[1, 0, 0, 1, 0, 0], [0, 0, 1, 0, 0, 0], [0, 0, 0, 1, 1, 0], [0, 0, 1, 1, 0, 1], [0, 1, 0, 0, 0, 0], [0, 0, 1, 0, 1, 1]]\n"
     ]
    }
   ],
   "source": [
    "my_list= [[0,0,0,0,0,0],[0,0,0,0,0,0],[0,0,0,0,0,0],[0,0,0,0,0,0],[0,0,0,0,0,0],[0,0,0,0,0,0]]\n",
    "count=1\n",
    "\n",
    "while count<=12:\n",
    "    import random\n",
    "    z=random.randint(0,5)\n",
    "    y=random.randint(0,5)\n",
    "    if my_list[y][z]==0:\n",
    "        my_list[y][z]=1\n",
    "        count=count+1\n",
    "print('\\n',my_list)\n"
   ]
  },
  {
   "cell_type": "markdown",
   "metadata": {},
   "source": [
    "Q.11 Randomly generate a 9 × 9 list where the entries are integers between 1 and 9 with no repeat entries in any row or in any column."
   ]
  },
  {
   "cell_type": "code",
   "execution_count": 3,
   "metadata": {},
   "outputs": [
    {
     "name": "stdout",
     "output_type": "stream",
     "text": [
      "5 7 9 4 8 3 2 1 6 \n",
      "1 6 7 3 4 8 5 2 9 \n",
      "7 6 8 2 3 5 4 9 1 \n",
      "8 9 1 5 7 4 2 6 3 \n",
      "3 6 9 7 2 8 1 4 5 \n",
      "4 2 3 9 5 8 7 6 1 \n",
      "2 5 8 1 4 7 9 3 6 \n",
      "5 6 7 2 8 4 1 3 9 \n",
      "9 6 7 1 8 2 5 3 4 \n"
     ]
    }
   ],
   "source": [
    "\n",
    "import random\n",
    "positions = []\n",
    "for x in range(9):\n",
    "    for y in range(9):\n",
    "        f = random.randrange(9)+1\n",
    "        while positions.count(f)!=0:\n",
    "            f = random.randrange(9)+1\n",
    "        positions.append(f)\n",
    "        print(f, end=\" \")\n",
    "    positions.clear()\n",
    "    print()\n"
   ]
  }
 ],
 "metadata": {
  "kernelspec": {
   "display_name": "Python 3",
   "language": "python",
   "name": "python3"
  },
  "language_info": {
   "codemirror_mode": {
    "name": "ipython",
    "version": 3
   },
   "file_extension": ".py",
   "mimetype": "text/x-python",
   "name": "python",
   "nbconvert_exporter": "python",
   "pygments_lexer": "ipython3",
   "version": "3.7.1"
  }
 },
 "nbformat": 4,
 "nbformat_minor": 2
}
